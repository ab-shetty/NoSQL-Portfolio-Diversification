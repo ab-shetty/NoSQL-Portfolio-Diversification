{
 "cells": [
  {
   "cell_type": "code",
   "execution_count": 1,
   "id": "a6a9dbaf",
   "metadata": {},
   "outputs": [],
   "source": [
    "## We will be using the Financial Modeling Prep API to fetch stock price data for this project. \n",
    "\n",
    "## For security reasons, the API key has been removed from this submission"
   ]
  },
  {
   "cell_type": "code",
   "execution_count": 33,
   "id": "8661f916",
   "metadata": {},
   "outputs": [
    {
     "name": "stdout",
     "output_type": "stream",
     "text": [
      "Requirement already satisfied: fmpsdk in /opt/conda/lib/python3.9/site-packages (20230623.0)\n",
      "Requirement already satisfied: requests in /opt/conda/lib/python3.9/site-packages (from fmpsdk) (2.26.0)\n",
      "Requirement already satisfied: python-dotenv in /opt/conda/lib/python3.9/site-packages (from fmpsdk) (1.0.1)\n",
      "Requirement already satisfied: charset-normalizer~=2.0.0 in /opt/conda/lib/python3.9/site-packages (from requests->fmpsdk) (2.0.4)\n",
      "Requirement already satisfied: idna<4,>=2.5 in /opt/conda/lib/python3.9/site-packages (from requests->fmpsdk) (3.2)\n",
      "Requirement already satisfied: urllib3<1.27,>=1.21.1 in /opt/conda/lib/python3.9/site-packages (from requests->fmpsdk) (1.26.7)\n",
      "Requirement already satisfied: certifi>=2017.4.17 in /opt/conda/lib/python3.9/site-packages (from requests->fmpsdk) (2021.10.8)\n"
     ]
    },
    {
     "name": "stderr",
     "output_type": "stream",
     "text": [
      "WARNING: Running pip as the 'root' user can result in broken permissions and conflicting behaviour with the system package manager. It is recommended to use a virtual environment instead: https://pip.pypa.io/warnings/venv\n"
     ]
    }
   ],
   "source": [
    "%%sh \n",
    "\n",
    "pip install fmpsdk"
   ]
  },
  {
   "cell_type": "code",
   "execution_count": 34,
   "id": "47cd05ed",
   "metadata": {},
   "outputs": [],
   "source": [
    "import fmpsdk \n",
    "import pandas as pd \n",
    "import numpy as np"
   ]
  },
  {
   "cell_type": "code",
   "execution_count": 36,
   "id": "9273fa28",
   "metadata": {},
   "outputs": [],
   "source": [
    "stocks = pd.read_csv(\"../data/SP500.csv\")"
   ]
  },
  {
   "cell_type": "code",
   "execution_count": 28,
   "id": "2acc5c15",
   "metadata": {},
   "outputs": [],
   "source": [
    "stock_prices = []\n",
    "\n",
    "stock_list = list(stocks.Symbol)\n",
    "\n",
    "for i in range(0, len(stock_list), 5):\n",
    "    shortlist = stock_list[i:i+5]\n",
    "    stock_prices.extend(\n",
    "        fmpsdk.historical_price_full(\n",
    "            apikey = '### REDACTED ###', \n",
    "            symbol = shortlist, \n",
    "            from_date = '2023-10-01',\n",
    "            to_date = '2024-04-01'\n",
    "        ))\n",
    "\n"
   ]
  },
  {
   "cell_type": "code",
   "execution_count": 29,
   "id": "87e95dd3",
   "metadata": {},
   "outputs": [],
   "source": [
    "# This filters any stocks that were recent additions, or removals from the SP500;\n",
    "# any stocks that have fewer than the expected number of trading days\n",
    "\n",
    "stock_prices_f = [stock_prices[i] for i in range(len(stock_prices)) if len(stock_prices[i]['historical']) == 125]"
   ]
  },
  {
   "cell_type": "code",
   "execution_count": 30,
   "id": "061fd2cc",
   "metadata": {},
   "outputs": [
    {
     "data": {
      "text/plain": [
       "125"
      ]
     },
     "execution_count": 30,
     "metadata": {},
     "output_type": "execute_result"
    }
   ],
   "source": [
    "len(stock_prices[0]['historical'])"
   ]
  },
  {
   "cell_type": "code",
   "execution_count": 31,
   "id": "bd57399a",
   "metadata": {},
   "outputs": [],
   "source": [
    "names = []\n",
    "daily_returns = []\n",
    "\n",
    "for i in stock_prices_f:\n",
    "    name = i['symbol']\n",
    "    returns = pd.DataFrame(i['historical'])[['date', 'close']]\n",
    "    returns = returns.rename({'close': name}, axis = 1)\n",
    "    returns = returns.set_index('date')\n",
    "\n",
    "    names.append(name)\n",
    "    daily_returns.append(returns)\n",
    "\n",
    "results = pd.concat(daily_returns, axis = 1)\n",
    "\n",
    "corr_matrix = results.corr()\n",
    "\n",
    "corr_matrix.to_csv(\"../data/correlation_matrix.csv\")"
   ]
  },
  {
   "cell_type": "code",
   "execution_count": 32,
   "id": "ef14fc2b",
   "metadata": {},
   "outputs": [],
   "source": [
    "corr_matrix = corr_matrix.where(np.triu(np.ones(corr_matrix.shape) - np.diag(np.diag(np.ones(corr_matrix.shape)))).astype(bool))\n",
    "\n",
    "stacked = corr_matrix.stack().reset_index()\n",
    "\n",
    "stacked = stacked.rename({'level_0': 'stock_a', \n",
    "                          'level_1': 'stock_b', \n",
    "                          '0': 'corr'}, axis = 1)\n",
    "\n",
    "stacked.to_csv('../data/stacked_correlations_no_diag.csv')"
   ]
  },
  {
   "cell_type": "code",
   "execution_count": null,
   "id": "ec620509",
   "metadata": {},
   "outputs": [],
   "source": []
  }
 ],
 "metadata": {
  "kernelspec": {
   "display_name": "Python 3 (ipykernel)",
   "language": "python",
   "name": "python3"
  },
  "language_info": {
   "codemirror_mode": {
    "name": "ipython",
    "version": 3
   },
   "file_extension": ".py",
   "mimetype": "text/x-python",
   "name": "python",
   "nbconvert_exporter": "python",
   "pygments_lexer": "ipython3",
   "version": "3.9.7"
  }
 },
 "nbformat": 4,
 "nbformat_minor": 5
}
